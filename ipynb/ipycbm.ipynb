{
 "cells": [
  {
   "cell_type": "markdown",
   "metadata": {
    "slideshow": {
     "slide_type": "slide"
    }
   },
   "source": [
    "![EC JRC](media/img/eu_science_hub.png)\n",
    "\n",
    "# The jupyter notebooks interactive python library for CbM **\"ipycbm\"**\n",
    "### JRC D5 Food security - GTCAP\n",
    "\n",
    "\n",
    "The ipycbm python library for notebooks provides an easy way to get and view data with the use of python widgets.\n",
    "The functions are only for use within Jupyter Notebooks and they provide easy to use graphical control panels with all the advantages of notebooks. This python library provide also code example generation for the selected datasets for extensive analysis.\n",
    "The data can be retrieved from the DIAS API or directly from the database and object storage.\n",
    "\n",
    "\n",
    "The ipycbm library have the following main functions with graphical panels:\n",
    "\n",
    "| Panels   |  Description | Use |\n",
    "|----------|------|------|\n",
    "| cbm() |  Main CbM Jupyter Notebooks graphical panel to run all the required procedures for Checks by Monitoring (CbM) with a sample sample dataset. | D |\n",
    "| get() |  Get data from servers with different methods (coordinates, parcels ids, map marker, polygon*) | D,R |\n",
    "| view() | View the data in many different ways**, with easy selection of the view method. | D,R |\n",
    "| process() | For running extraction routines and other cbm tasks | D |\n",
    "| foi() | The FOI procedures notebook graphical interface | D |\n",
    "| qa() | The Quality Assessment (QA) notebook graphical interface | D,R |\n",
    "\n",
    "Use: D=Can be used with direct access, R=Can be used with RESTful API\n",
    "\n",
    "\n",
    "There are two methods to get parcel data, one is with the use of a RESTful API and the other with direct access to the database and object storage, RESTful API is the preferred method to retrieve and view the parcels data (get, view). To retrieve data from a RESTful API a relevant server is needed, see [Wiki](https://github.com/ec-jrc/cbm/wiki) for setup instructions.\n",
    "To run the foi and proc functions direct access is required.\n"
   ]
  },
  {
   "cell_type": "code",
   "execution_count": null,
   "metadata": {},
   "outputs": [],
   "source": [
    "# Optional: IPython extension to reload modules before executing user code.\n",
    "%load_ext autoreload\n",
    "%autoreload 2"
   ]
  },
  {
   "cell_type": "markdown",
   "metadata": {},
   "source": [
    "## Interactive python subpackage of cbm"
   ]
  },
  {
   "cell_type": "code",
   "execution_count": null,
   "metadata": {
    "slideshow": {
     "slide_type": "slide"
    }
   },
   "outputs": [],
   "source": [
    "# Import the python library ipycbm\n",
    "# In case it can not import the cbm library, uncomment the below lines\n",
    "\n",
    "# import sys\n",
    "# sys.path.insert(0,'..')\n",
    "\n",
    "from cbm import ipycbm"
   ]
  },
  {
   "cell_type": "code",
   "execution_count": null,
   "metadata": {
    "slideshow": {
     "slide_type": "slide"
    }
   },
   "outputs": [],
   "source": [
    "# Download data from RESTful API or directly from database.\n",
    "ipycbm.get()"
   ]
  },
  {
   "cell_type": "code",
   "execution_count": null,
   "metadata": {
    "slideshow": {
     "slide_type": "slide"
    }
   },
   "outputs": [],
   "source": [
    "# Display the data with easy selectable predefined view options.\n",
    "ipycbm.view()"
   ]
  },
  {
   "cell_type": "markdown",
   "metadata": {},
   "source": []
  },
  {
   "cell_type": "code",
   "execution_count": null,
   "metadata": {},
   "outputs": [],
   "source": [
    "# Run procedures\n",
    "# - Upload parcels datasets, add parcels to database tables\n",
    "# - create the essential CbM tables\n",
    "# - run parcel extraction routines\n",
    "ipycbm.proc()"
   ]
  },
  {
   "cell_type": "code",
   "execution_count": null,
   "metadata": {},
   "outputs": [],
   "source": [
    "# Interactive panel for Quality Assessment (QA) procedures.\n",
    "ipycbm.qa()"
   ]
  },
  {
   "cell_type": "code",
   "execution_count": null,
   "metadata": {},
   "outputs": [],
   "source": [
    "# Interactive panel for FOI procedures.\n",
    "ipycbm.foi()"
   ]
  },
  {
   "cell_type": "code",
   "execution_count": null,
   "metadata": {},
   "outputs": [],
   "source": []
  },
  {
   "cell_type": "code",
   "execution_count": null,
   "metadata": {},
   "outputs": [],
   "source": []
  }
 ],
 "metadata": {
  "kernelspec": {
   "display_name": "Python 3",
   "language": "python",
   "name": "python3"
  },
  "language_info": {
   "codemirror_mode": {
    "name": "ipython",
    "version": 3
   },
   "file_extension": ".py",
   "mimetype": "text/x-python",
   "name": "python",
   "nbconvert_exporter": "python",
   "pygments_lexer": "ipython3",
   "version": "3.6.9"
  },
  "rise": {
   "enable_chalkboard": true
  }
 },
 "nbformat": 4,
 "nbformat_minor": 4
}
